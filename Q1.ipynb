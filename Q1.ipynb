{
  "nbformat": 4,
  "nbformat_minor": 0,
  "metadata": {
    "colab": {
      "name": "Q1.ipynb",
      "provenance": [],
      "collapsed_sections": []
    },
    "kernelspec": {
      "name": "python3",
      "display_name": "Python 3"
    },
    "language_info": {
      "name": "python"
    }
  },
  "cells": [
    {
      "cell_type": "markdown",
      "metadata": {
        "id": "ftYVUsGjRxV0"
      },
      "source": [
        "# **Abdullah Al Fahim**\n",
        "ID:173-15-10430\n",
        "Sec-O "
      ]
    },
    {
      "cell_type": "code",
      "metadata": {
        "id": "HU0LDrPa7an5"
      },
      "source": [
        "T1 = 85\n",
        "T2 = 110\n",
        "T3 = 90\n",
        "T4 = 75\n",
        "T5 = 80\n",
        "T6 = 100\n",
        "T7 = 97\n",
        "T8 = 106\n",
        "T9 = 99\n",
        "T10 = 135\n",
        "\n",
        "def same_direction(t_a, t_b):\n",
        "    if t_a > t_b:\n",
        "        rel_speed_same = t_a - t_b\n",
        "        return rel_speed_same\n",
        "    else:\n",
        "        rel_speed_same = t_b - t_a\n",
        "        return rel_speed_same\n",
        "    \n",
        "def opposite_direction(t_a, t_b):\n",
        "    rel_speed_oppos = t_a + t_b\n",
        "    return rel_speed_oppos\n",
        "\n",
        "def L1(T1, T3, T5, T8, T9):\n",
        "    max_speed = max(T1, T3, T5, T8, T9)\n",
        "    min_speed = min(T1, T3, T5, T8, T9)\n",
        "    \n",
        "    print(\"Same Direction Relative Motion:\",same_direction(max_speed,min_speed))\n",
        "    print(\"Opposite Direction Relative Motion:\",opposite_direction(max_speed,min_speed))\n",
        "\n",
        "    \n",
        "\n",
        "def L2(T1, T3, T5, T8, T9):\n",
        "    max_speed = max(T2, T4, T6, T7, T10)\n",
        "    min_speed = min(T2, T4, T6, T7, T10)\n",
        "    \n",
        "    print(\"Same Direction Relative Motion:\",same_direction(max_speed,min_speed))\n",
        "    print(\"Opposite Direction Relative Motion:\",opposite_direction(max_speed,min_speed))"
      ],
      "execution_count": null,
      "outputs": []
    },
    {
      "cell_type": "code",
      "metadata": {
        "colab": {
          "base_uri": "https://localhost:8080/"
        },
        "id": "vMFsYlf-Pb73",
        "outputId": "5bd3ec2a-937f-4ede-80fb-ed83484ad424"
      },
      "source": [
        "L1(T1, T3, T5, T8, T9)  \n",
        "L2(T2, T4, T6, T7, T10)"
      ],
      "execution_count": null,
      "outputs": [
        {
          "output_type": "stream",
          "text": [
            "Same Direction Relative Motion: 26\n",
            "Opposite Direction Relative Motion: 186\n",
            "Same Direction Relative Motion: 60\n",
            "Opposite Direction Relative Motion: 210\n"
          ],
          "name": "stdout"
        }
      ]
    },
    {
      "cell_type": "markdown",
      "metadata": {
        "id": "zGskdo9R7dXo"
      },
      "source": [
        ""
      ]
    }
  ]
}