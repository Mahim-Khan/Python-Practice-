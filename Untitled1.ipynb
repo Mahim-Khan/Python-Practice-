{
  "nbformat": 4,
  "nbformat_minor": 0,
  "metadata": {
    "colab": {
      "name": "Untitled1.ipynb",
      "provenance": [],
      "collapsed_sections": []
    },
    "kernelspec": {
      "name": "python3",
      "display_name": "Python 3"
    }
  },
  "cells": [
    {
      "cell_type": "code",
      "metadata": {
        "colab": {
          "base_uri": "https://localhost:8080/"
        },
        "id": "C1ejG0cpNDbH",
        "outputId": "73c456e6-74cd-4897-9869-a8550e3574ea"
      },
      "source": [
        "import numpy as np\r\n",
        "\r\n",
        "output = np.array([[i for i in range(10, 1, -2)],[i for i in range(9,0,-2)]])\r\n",
        "print(output)"
      ],
      "execution_count": 2,
      "outputs": [
        {
          "output_type": "stream",
          "text": [
            "[[10  8  6  4  2]\n",
            " [ 9  7  5  3  1]]\n"
          ],
          "name": "stdout"
        }
      ]
    }
  ]
}