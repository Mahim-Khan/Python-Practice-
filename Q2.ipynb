{
  "nbformat": 4,
  "nbformat_minor": 0,
  "metadata": {
    "colab": {
      "name": "Q2.ipynb",
      "provenance": [],
      "collapsed_sections": []
    },
    "kernelspec": {
      "name": "python3",
      "display_name": "Python 3"
    },
    "language_info": {
      "name": "python"
    }
  },
  "cells": [
    {
      "cell_type": "markdown",
      "metadata": {
        "id": "9_-mhKUuScpz"
      },
      "source": [
        "# **Abdullah Al Fahim**\n",
        "ID:173-15-10430\n",
        "Sec-O "
      ]
    },
    {
      "cell_type": "code",
      "metadata": {
        "colab": {
          "base_uri": "https://localhost:8080/"
        },
        "id": "GZ5hKt5ayCvK",
        "outputId": "16c2967f-32ee-4aa7-f4d3-85a43be7ac0a"
      },
      "source": [
        "!pip install numpy"
      ],
      "execution_count": null,
      "outputs": [
        {
          "output_type": "stream",
          "text": [
            "Requirement already satisfied: numpy in /usr/local/lib/python3.7/dist-packages (1.19.5)\n"
          ],
          "name": "stdout"
        }
      ]
    },
    {
      "cell_type": "code",
      "metadata": {
        "colab": {
          "base_uri": "https://localhost:8080/"
        },
        "id": "jEf7CWV77SQS",
        "outputId": "98d55361-debd-49fa-85f1-b07d0a80fe11"
      },
      "source": [
        "import numpy\n",
        "x,y = map(int, input().split())\n",
        "b = []\n",
        "for i in range(n):\n",
        "    a = list(map(int, input().split()))\n",
        "    b.append(a)\n",
        "\n",
        "b = numpy.array(b)\n",
        "numpy.set_printoptions(legacy='1.13')\n",
        "print(numpy.mean(b, axis = 1))\n",
        "print(numpy.var(b, axis = 0))\n",
        "print(numpy.std(b))"
      ],
      "execution_count": null,
      "outputs": [
        {
          "output_type": "stream",
          "text": [
            "2 2\n",
            "1 2\n",
            "3 4\n",
            "[ 1.5  3.5]\n",
            "[ 1.  1.]\n",
            "1.11803398875\n"
          ],
          "name": "stdout"
        }
      ]
    }
  ]
}